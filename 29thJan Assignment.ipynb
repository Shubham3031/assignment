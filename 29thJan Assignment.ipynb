{
 "cells": [
  {
   "cell_type": "code",
   "execution_count": null,
   "id": "16274a79-11d5-40b5-a0ac-e19eabd27953",
   "metadata": {},
   "outputs": [],
   "source": [
    "1.Ans- Guido van Rossum\n",
    "2.Ans- Object oriented programming , structured programming and  functional programming\n",
    "3.Ans- Yes\n",
    "4.Ans- .py\n",
    "5.Ans- Python code is both compiled and interpreted\n",
    "6.Ans- Indentation \n",
    "7.Ans- #\n",
    "8.Ans- sys.version\n",
    "9.Ans- lambda\n",
    "10.Ans-Preferred Installer Program\n",
    "11.Ans-print()\n",
    "12.Ans-\n",
    "13.Ans-User-friendly data structures , Versatile, Easy to read, learn and write, dynamically typed,portability,\n",
    "     Ideal for prototypes – provide more functionality with less coding.\n",
    "14.Ans-In Python, memory is managed by the Python manager which determines where to put the application data in the memory.\n",
    "15.Ans-Firstly python is install from its official website.After this, install it on your PC. Look for the location where PYTHON has been installed on your PC using tge following command on your command prompt: cmd python.\n",
    "        Then go to advanced system settings and add new variable and name it as PYTHON_NAME and paste the copied path.\n",
    "        Then look for the path variable, select it's value and select edit\n",
    "        Add a semicolon towards the end of the value if it's not present and then type %PYTHON_HOME%\n",
    "16.Ans-U\n"
   ]
  }
 ],
 "metadata": {
  "kernelspec": {
   "display_name": "Python 3 (ipykernel)",
   "language": "python",
   "name": "python3"
  },
  "language_info": {
   "codemirror_mode": {
    "name": "ipython",
    "version": 3
   },
   "file_extension": ".py",
   "mimetype": "text/x-python",
   "name": "python",
   "nbconvert_exporter": "python",
   "pygments_lexer": "ipython3",
   "version": "3.10.8"
  }
 },
 "nbformat": 4,
 "nbformat_minor": 5
}
